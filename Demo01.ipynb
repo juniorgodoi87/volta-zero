{
 "cells": [
  {
   "cell_type": "code",
   "execution_count": 1,
   "id": "5ae5628a",
   "metadata": {},
   "outputs": [],
   "source": [
    "#exemplo de código comentado que não será processado"
   ]
  },
  {
   "cell_type": "markdown",
   "id": "0205d242",
   "metadata": {},
   "source": [
    "# Exemplo de Título"
   ]
  },
  {
   "cell_type": "code",
   "execution_count": 3,
   "id": "3d3765cb",
   "metadata": {},
   "outputs": [
    {
     "data": {
      "text/plain": [
       "2"
      ]
     },
     "execution_count": 3,
     "metadata": {},
     "output_type": "execute_result"
    }
   ],
   "source": [
    "variavel_a = 1+1\n",
    "variavel_a"
   ]
  },
  {
   "cell_type": "code",
   "execution_count": null,
   "id": "30c93eff",
   "metadata": {},
   "outputs": [],
   "source": []
  }
 ],
 "metadata": {
  "kernelspec": {
   "display_name": "Python 3",
   "language": "python",
   "name": "python3"
  },
  "language_info": {
   "codemirror_mode": {
    "name": "ipython",
    "version": 3
   },
   "file_extension": ".py",
   "mimetype": "text/x-python",
   "name": "python",
   "nbconvert_exporter": "python",
   "pygments_lexer": "ipython3",
   "version": "3.8.8"
  }
 },
 "nbformat": 4,
 "nbformat_minor": 5
}
